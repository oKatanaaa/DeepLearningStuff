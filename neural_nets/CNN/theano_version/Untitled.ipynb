{
 "cells": [
  {
   "cell_type": "code",
   "execution_count": 4,
   "metadata": {},
   "outputs": [],
   "source": [
    "import numpy as np\n",
    "import theano as th\n",
    "import theano.tensor as T\n",
    "import matplotlib.image as mpimg\n",
    "import matplotlib.pyplot as plt\n",
    "\n",
    "from utils import get_preprocessed_data, error_rate\n",
    "\n",
    "def convpool(X, W, b, poolsize=(2,2)):\n",
    "    conv_out = T.nnet.conv2d(input=X, filters=W)\n",
    "    \n",
    "    pooled_out = T.signal.pool.pool_2d(\n",
    "        input=conv_out,\n",
    "        ws=poolsize,\n",
    "        ignore_border=True\n",
    "    )\n",
    "    \n",
    "    # Add the bias term. Since the bias is a vector 1D array), we first\n",
    "    # reshape it to a tensor of shape (1, n_filters, 1, 1). Each bias will\n",
    "    # thus be broadcasted across mini_batches and feature map\n",
    "    return T.nnen.relu(pooled_out + b.dimshuffle('x', 0, 'x', 'x'))\n",
    "\n",
    "\n",
    "def init_filter(shape):\n",
    "    w = np.random.randn(shape) / np.sqrt(2.0 / np.prod(shape[1:]))\n",
    "    return w.astype(np.float32)\n",
    "\n",
    "def rearrange(X):\n",
    "    # input is (N, 784)\n",
    "    # output is (N, 28, 28)\n",
    "    new_X = np.zeros((X.shape[0], 28, 28))\n",
    "    for pixels_row, new_X_mat in zip(X, new_X):\n",
    "        for j in range(28):\n",
    "            new_X_mat[j] += pixels_row[j*28:(j+1)*28]\n",
    "\n",
    "    return new_X"
   ]
  },
  {
   "cell_type": "code",
   "execution_count": 5,
   "metadata": {},
   "outputs": [
    {
     "data": {
      "text/plain": [
       "<matplotlib.image.AxesImage at 0x7fe847313400>"
      ]
     },
     "execution_count": 5,
     "metadata": {},
     "output_type": "execute_result"
    },
    {
     "data": {
      "image/png": "[encoded data removed]",
      "text/plain": [
       "<Figure size 432x288 with 1 Axes>"
      ]
     },
     "metadata": {},
     "output_type": "display_data"
    }
   ],
   "source": [
    "X, Y = get_preprocessed_data()\n",
    "X = rearrange(X)\n",
    "\n",
    "plt.imshow(X[0])"
   ]
  },
  {
   "cell_type": "code",
   "execution_count": 1,
   "metadata": {},
   "outputs": [],
   "source": [
    "a = (1, 2, 3)"
   ]
  },
  {
   "cell_type": "code",
   "execution_count": 2,
   "metadata": {},
   "outputs": [
    {
     "data": {
      "text/plain": [
       "(1, 2, 3)"
      ]
     },
     "execution_count": 2,
     "metadata": {},
     "output_type": "execute_result"
    }
   ],
   "source": [
    "a"
   ]
  },
  {
   "cell_type": "code",
   "execution_count": 4,
   "metadata": {},
   "outputs": [
    {
     "ename": "SyntaxError",
     "evalue": "can't use starred expression here (<ipython-input-4-ae6bab21d242>, line 1)",
     "output_type": "error",
     "traceback": [
      "\u001b[0;36m  File \u001b[0;32m\"<ipython-input-4-ae6bab21d242>\"\u001b[0;36m, line \u001b[0;32m1\u001b[0m\n\u001b[0;31m    b = *a\u001b[0m\n\u001b[0m       ^\u001b[0m\n\u001b[0;31mSyntaxError\u001b[0m\u001b[0;31m:\u001b[0m can't use starred expression here\n"
     ]
    }
   ],
   "source": [
    "b = *a"
   ]
  },
  {
   "cell_type": "code",
   "execution_count": null,
   "metadata": {},
   "outputs": [],
   "source": []
  }
 ],
 "metadata": {
  "kernelspec": {
   "display_name": "Python 3",
   "language": "python",
   "name": "python3"
  },
  "language_info": {
   "codemirror_mode": {
    "name": "ipython",
    "version": 3
   },
   "file_extension": ".py",
   "mimetype": "text/x-python",
   "name": "python",
   "nbconvert_exporter": "python",
   "pygments_lexer": "ipython3",
   "version": "3.6.5"
  }
 },
 "nbformat": 4,
 "nbformat_minor": 2
}
