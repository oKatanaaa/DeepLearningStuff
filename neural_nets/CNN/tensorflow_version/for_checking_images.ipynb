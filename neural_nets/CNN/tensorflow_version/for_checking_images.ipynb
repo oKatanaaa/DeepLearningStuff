{
 "cells": [
  {
   "cell_type": "code",
   "execution_count": 4,
   "metadata": {},
   "outputs": [],
   "source": [
    "import tensorflow as tf\n",
    "import numpy as np\n",
    "from utils import get_preprocessed_data\n",
    "\n",
    "\n",
    "def convpool(X, W, b):\n",
    "    conv_out = tf.nn.conv2d(X, W, strided=[1, 1, 1, 1], padding='SAME')\n",
    "    conv_out = tf.nn.bias_add(conv_out, b)\n",
    "    pool_out = tf.nn.max_pool(conv_out, ksize=[1, 2, 2, 1], strides=[1, 2, 2, 1], padding='SAME')\n",
    "    return tf.nn.relu(pool_out)\n",
    "\n",
    "\n",
    "def init_filter(shape):\n",
    "    w = np.random(*shape) * np.sqrt(2.0 / np.prod(shape[:-1]))\n",
    "    return w.astype(np.float32)\n",
    "\n",
    "def rearrange(X):\n",
    "    # input is (N, 784)\n",
    "    # output is (N, 28, 28, 1)\n",
    "    new_X = np.zeros((X.shape[0], 28, 28, 1))\n",
    "    for j in range(28):\n",
    "        new_X[:,j,:,0] += X[:,j*28:(j+1)*28]\n",
    "        \n",
    "    return new_X\n",
    "\n",
    "    \n",
    "    "
   ]
  },
  {
   "cell_type": "code",
   "execution_count": 5,
   "metadata": {},
   "outputs": [],
   "source": [
    "X, Y = get_preprocessed_data()\n",
    "X = rearrange(X)"
   ]
  },
  {
   "cell_type": "code",
   "execution_count": 27,
   "metadata": {},
   "outputs": [
    {
     "data": {
      "text/plain": [
       "<matplotlib.image.AxesImage at 0x7f9b4830be48>"
      ]
     },
     "execution_count": 27,
     "metadata": {},
     "output_type": "execute_result"
    },
    {
     "data": {
      "image/png": "[encoded data removed]",
      "text/plain": [
       "<Figure size 432x288 with 1 Axes>"
      ]
     },
     "metadata": {},
     "output_type": "display_data"
    }
   ],
   "source": [
    "import matplotlib.image as mpimg\n",
    "import matplotlib.pyplot as plt\n",
    "plt.imshow(X[0,:,:,0])"
   ]
  },
  {
   "cell_type": "code",
   "execution_count": 26,
   "metadata": {},
   "outputs": [
    {
     "data": {
      "text/plain": [
       "(28, 28)"
      ]
     },
     "execution_count": 26,
     "metadata": {},
     "output_type": "execute_result"
    }
   ],
   "source": [
    "X[0,:,:,0].shape"
   ]
  },
  {
   "cell_type": "code",
   "execution_count": null,
   "metadata": {},
   "outputs": [],
   "source": []
  }
 ],
 "metadata": {
  "kernelspec": {
   "display_name": "Python 3",
   "language": "python",
   "name": "python3"
  },
  "language_info": {
   "codemirror_mode": {
    "name": "ipython",
    "version": 3
   },
   "file_extension": ".py",
   "mimetype": "text/x-python",
   "name": "python",
   "nbconvert_exporter": "python",
   "pygments_lexer": "ipython3",
   "version": "3.6.5"
  }
 },
 "nbformat": 4,
 "nbformat_minor": 2
}
